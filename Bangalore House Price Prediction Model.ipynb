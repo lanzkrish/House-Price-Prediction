{
 "cells": [
  {
   "cell_type": "code",
   "execution_count": 2,
   "id": "ad259e67",
   "metadata": {},
   "outputs": [],
   "source": [
    "import pandas as pd\n",
    "import numpy as np\n",
    "from sklearn.preprocessing import LabelEncoder\n",
    "from sklearn.model_selection import train_test_split\n",
    "from sklearn.linear_model import LinearRegression\n",
    "from IPython.display import clear_output\n",
    "\n",
    "\n",
    "import pickle"
   ]
  },
  {
   "cell_type": "code",
   "execution_count": 3,
   "id": "9a057f97",
   "metadata": {},
   "outputs": [],
   "source": [
    "BHP_train = pd.read_csv(r\"/Users/dhananjay/Desktop/Dhananjay c&p/BHP/Bengaluru_House_Data.csv\")"
   ]
  },
  {
   "cell_type": "markdown",
   "id": "8475b877",
   "metadata": {},
   "source": [
    "# Analyzing Data"
   ]
  },
  {
   "cell_type": "code",
   "execution_count": 4,
   "id": "3f532c11",
   "metadata": {},
   "outputs": [
    {
     "data": {
      "text/html": [
       "<div>\n",
       "<style scoped>\n",
       "    .dataframe tbody tr th:only-of-type {\n",
       "        vertical-align: middle;\n",
       "    }\n",
       "\n",
       "    .dataframe tbody tr th {\n",
       "        vertical-align: top;\n",
       "    }\n",
       "\n",
       "    .dataframe thead th {\n",
       "        text-align: right;\n",
       "    }\n",
       "</style>\n",
       "<table border=\"1\" class=\"dataframe\">\n",
       "  <thead>\n",
       "    <tr style=\"text-align: right;\">\n",
       "      <th></th>\n",
       "      <th>area_type</th>\n",
       "      <th>availability</th>\n",
       "      <th>location</th>\n",
       "      <th>size</th>\n",
       "      <th>society</th>\n",
       "      <th>total_sqft</th>\n",
       "      <th>bath</th>\n",
       "      <th>balcony</th>\n",
       "      <th>price</th>\n",
       "    </tr>\n",
       "  </thead>\n",
       "  <tbody>\n",
       "    <tr>\n",
       "      <th>0</th>\n",
       "      <td>Super built-up  Area</td>\n",
       "      <td>19-Dec</td>\n",
       "      <td>Electronic City Phase II</td>\n",
       "      <td>2 BHK</td>\n",
       "      <td>Coomee</td>\n",
       "      <td>1056</td>\n",
       "      <td>2.0</td>\n",
       "      <td>1.0</td>\n",
       "      <td>39.07</td>\n",
       "    </tr>\n",
       "    <tr>\n",
       "      <th>1</th>\n",
       "      <td>Plot  Area</td>\n",
       "      <td>Ready To Move</td>\n",
       "      <td>Chikka Tirupathi</td>\n",
       "      <td>4 Bedroom</td>\n",
       "      <td>Theanmp</td>\n",
       "      <td>2600</td>\n",
       "      <td>5.0</td>\n",
       "      <td>3.0</td>\n",
       "      <td>120.00</td>\n",
       "    </tr>\n",
       "    <tr>\n",
       "      <th>2</th>\n",
       "      <td>Built-up  Area</td>\n",
       "      <td>Ready To Move</td>\n",
       "      <td>Uttarahalli</td>\n",
       "      <td>3 BHK</td>\n",
       "      <td>NaN</td>\n",
       "      <td>1440</td>\n",
       "      <td>2.0</td>\n",
       "      <td>3.0</td>\n",
       "      <td>62.00</td>\n",
       "    </tr>\n",
       "    <tr>\n",
       "      <th>3</th>\n",
       "      <td>Super built-up  Area</td>\n",
       "      <td>Ready To Move</td>\n",
       "      <td>Lingadheeranahalli</td>\n",
       "      <td>3 BHK</td>\n",
       "      <td>Soiewre</td>\n",
       "      <td>1521</td>\n",
       "      <td>3.0</td>\n",
       "      <td>1.0</td>\n",
       "      <td>95.00</td>\n",
       "    </tr>\n",
       "    <tr>\n",
       "      <th>4</th>\n",
       "      <td>Super built-up  Area</td>\n",
       "      <td>Ready To Move</td>\n",
       "      <td>Kothanur</td>\n",
       "      <td>2 BHK</td>\n",
       "      <td>NaN</td>\n",
       "      <td>1200</td>\n",
       "      <td>2.0</td>\n",
       "      <td>1.0</td>\n",
       "      <td>51.00</td>\n",
       "    </tr>\n",
       "    <tr>\n",
       "      <th>5</th>\n",
       "      <td>Super built-up  Area</td>\n",
       "      <td>Ready To Move</td>\n",
       "      <td>Whitefield</td>\n",
       "      <td>2 BHK</td>\n",
       "      <td>DuenaTa</td>\n",
       "      <td>1170</td>\n",
       "      <td>2.0</td>\n",
       "      <td>1.0</td>\n",
       "      <td>38.00</td>\n",
       "    </tr>\n",
       "    <tr>\n",
       "      <th>6</th>\n",
       "      <td>Super built-up  Area</td>\n",
       "      <td>18-May</td>\n",
       "      <td>Old Airport Road</td>\n",
       "      <td>4 BHK</td>\n",
       "      <td>Jaades</td>\n",
       "      <td>2732</td>\n",
       "      <td>4.0</td>\n",
       "      <td>NaN</td>\n",
       "      <td>204.00</td>\n",
       "    </tr>\n",
       "    <tr>\n",
       "      <th>7</th>\n",
       "      <td>Super built-up  Area</td>\n",
       "      <td>Ready To Move</td>\n",
       "      <td>Rajaji Nagar</td>\n",
       "      <td>4 BHK</td>\n",
       "      <td>Brway G</td>\n",
       "      <td>3300</td>\n",
       "      <td>4.0</td>\n",
       "      <td>NaN</td>\n",
       "      <td>600.00</td>\n",
       "    </tr>\n",
       "    <tr>\n",
       "      <th>8</th>\n",
       "      <td>Super built-up  Area</td>\n",
       "      <td>Ready To Move</td>\n",
       "      <td>Marathahalli</td>\n",
       "      <td>3 BHK</td>\n",
       "      <td>NaN</td>\n",
       "      <td>1310</td>\n",
       "      <td>3.0</td>\n",
       "      <td>1.0</td>\n",
       "      <td>63.25</td>\n",
       "    </tr>\n",
       "    <tr>\n",
       "      <th>9</th>\n",
       "      <td>Plot  Area</td>\n",
       "      <td>Ready To Move</td>\n",
       "      <td>Gandhi Bazar</td>\n",
       "      <td>6 Bedroom</td>\n",
       "      <td>NaN</td>\n",
       "      <td>1020</td>\n",
       "      <td>6.0</td>\n",
       "      <td>NaN</td>\n",
       "      <td>370.00</td>\n",
       "    </tr>\n",
       "  </tbody>\n",
       "</table>\n",
       "</div>"
      ],
      "text/plain": [
       "              area_type   availability                  location       size  \\\n",
       "0  Super built-up  Area         19-Dec  Electronic City Phase II      2 BHK   \n",
       "1            Plot  Area  Ready To Move          Chikka Tirupathi  4 Bedroom   \n",
       "2        Built-up  Area  Ready To Move               Uttarahalli      3 BHK   \n",
       "3  Super built-up  Area  Ready To Move        Lingadheeranahalli      3 BHK   \n",
       "4  Super built-up  Area  Ready To Move                  Kothanur      2 BHK   \n",
       "5  Super built-up  Area  Ready To Move                Whitefield      2 BHK   \n",
       "6  Super built-up  Area         18-May          Old Airport Road      4 BHK   \n",
       "7  Super built-up  Area  Ready To Move              Rajaji Nagar      4 BHK   \n",
       "8  Super built-up  Area  Ready To Move              Marathahalli      3 BHK   \n",
       "9            Plot  Area  Ready To Move              Gandhi Bazar  6 Bedroom   \n",
       "\n",
       "   society total_sqft  bath  balcony   price  \n",
       "0  Coomee        1056   2.0      1.0   39.07  \n",
       "1  Theanmp       2600   5.0      3.0  120.00  \n",
       "2      NaN       1440   2.0      3.0   62.00  \n",
       "3  Soiewre       1521   3.0      1.0   95.00  \n",
       "4      NaN       1200   2.0      1.0   51.00  \n",
       "5  DuenaTa       1170   2.0      1.0   38.00  \n",
       "6  Jaades        2732   4.0      NaN  204.00  \n",
       "7  Brway G       3300   4.0      NaN  600.00  \n",
       "8      NaN       1310   3.0      1.0   63.25  \n",
       "9      NaN       1020   6.0      NaN  370.00  "
      ]
     },
     "execution_count": 4,
     "metadata": {},
     "output_type": "execute_result"
    }
   ],
   "source": [
    "BHP_train.head(10)"
   ]
  },
  {
   "cell_type": "code",
   "execution_count": 5,
   "id": "e733760f",
   "metadata": {},
   "outputs": [
    {
     "data": {
      "text/plain": [
       "area_type        object\n",
       "availability     object\n",
       "location         object\n",
       "size             object\n",
       "society          object\n",
       "total_sqft       object\n",
       "bath            float64\n",
       "balcony         float64\n",
       "price           float64\n",
       "dtype: object"
      ]
     },
     "execution_count": 5,
     "metadata": {},
     "output_type": "execute_result"
    }
   ],
   "source": [
    "BHP_train.dtypes"
   ]
  },
  {
   "cell_type": "code",
   "execution_count": 6,
   "id": "d51b7080",
   "metadata": {
    "scrolled": true
   },
   "outputs": [
    {
     "name": "stdout",
     "output_type": "stream",
     "text": [
      "area_type\n",
      "availability\n",
      "location\n",
      "size\n",
      "society\n",
      "total_sqft\n"
     ]
    }
   ],
   "source": [
    "for i in BHP_train.columns:\n",
    "       if BHP_train[i].dtype==\"O\":\n",
    "            print(i)"
   ]
  },
  {
   "cell_type": "code",
   "execution_count": 7,
   "id": "fd400e03",
   "metadata": {
    "scrolled": true
   },
   "outputs": [
    {
     "data": {
      "text/plain": [
       "Super built-up  Area    8790\n",
       "Built-up  Area          2418\n",
       "Plot  Area              2025\n",
       "Carpet  Area              87\n",
       "Name: area_type, dtype: int64"
      ]
     },
     "execution_count": 7,
     "metadata": {},
     "output_type": "execute_result"
    }
   ],
   "source": [
    "BHP_train[\"area_type\"].value_counts()"
   ]
  },
  {
   "cell_type": "code",
   "execution_count": 8,
   "id": "f6921ed3",
   "metadata": {},
   "outputs": [
    {
     "data": {
      "text/plain": [
       "Ready To Move    10581\n",
       "18-Dec             307\n",
       "18-May             295\n",
       "18-Apr             271\n",
       "18-Aug             200\n",
       "                 ...  \n",
       "15-Aug               1\n",
       "17-Jan               1\n",
       "16-Nov               1\n",
       "16-Jan               1\n",
       "14-Jul               1\n",
       "Name: availability, Length: 81, dtype: int64"
      ]
     },
     "execution_count": 8,
     "metadata": {},
     "output_type": "execute_result"
    }
   ],
   "source": [
    "BHP_train[\"availability\"].value_counts()"
   ]
  },
  {
   "cell_type": "code",
   "execution_count": 9,
   "id": "f7b99d00",
   "metadata": {
    "scrolled": true
   },
   "outputs": [
    {
     "data": {
      "text/plain": [
       "Whitefield                        540\n",
       "Sarjapur  Road                    399\n",
       "Electronic City                   302\n",
       "Kanakpura Road                    273\n",
       "Thanisandra                       234\n",
       "                                 ... \n",
       "Bapuji Layout                       1\n",
       "1st Stage Radha Krishna Layout      1\n",
       "BEML Layout 5th stage               1\n",
       "singapura paradise                  1\n",
       "Abshot Layout                       1\n",
       "Name: location, Length: 1305, dtype: int64"
      ]
     },
     "execution_count": 9,
     "metadata": {},
     "output_type": "execute_result"
    }
   ],
   "source": [
    "BHP_train[\"location\"].value_counts()"
   ]
  },
  {
   "cell_type": "code",
   "execution_count": 10,
   "id": "0792001e",
   "metadata": {},
   "outputs": [
    {
     "data": {
      "text/plain": [
       "True"
      ]
     },
     "execution_count": 10,
     "metadata": {},
     "output_type": "execute_result"
    }
   ],
   "source": [
    "\"Whitefield\" in BHP_train[\"location\"].value_counts()[:30].index"
   ]
  },
  {
   "cell_type": "code",
   "execution_count": 11,
   "id": "7442bebe",
   "metadata": {},
   "outputs": [],
   "source": [
    "index = 0\n",
    "for i in BHP_train[\"location\"]:\n",
    "    if i in BHP_train[\"location\"].value_counts()[:30].index:\n",
    "        pass\n",
    "    else:\n",
    "        BHP_train[\"location\"][index]=np.NaN\n",
    "    index+=1\n",
    "    \n",
    "clear_output()"
   ]
  },
  {
   "cell_type": "code",
   "execution_count": 12,
   "id": "00aa5a16",
   "metadata": {
    "scrolled": true
   },
   "outputs": [
    {
     "data": {
      "text/plain": [
       "area_type          0\n",
       "availability       0\n",
       "location        8648\n",
       "size              16\n",
       "society         5502\n",
       "total_sqft         0\n",
       "bath              73\n",
       "balcony          609\n",
       "price              0\n",
       "dtype: int64"
      ]
     },
     "execution_count": 12,
     "metadata": {},
     "output_type": "execute_result"
    }
   ],
   "source": [
    "BHP_train.isnull().sum()"
   ]
  },
  {
   "cell_type": "code",
   "execution_count": 13,
   "id": "dff87feb",
   "metadata": {},
   "outputs": [],
   "source": [
    "BHP_train = BHP_train.drop([\"society\"],axis=1)"
   ]
  },
  {
   "cell_type": "code",
   "execution_count": 14,
   "id": "9324d1b4",
   "metadata": {
    "scrolled": true
   },
   "outputs": [
    {
     "data": {
      "text/plain": [
       "area_type          0\n",
       "availability       0\n",
       "location        8648\n",
       "size              16\n",
       "total_sqft         0\n",
       "bath              73\n",
       "balcony          609\n",
       "price              0\n",
       "dtype: int64"
      ]
     },
     "execution_count": 14,
     "metadata": {},
     "output_type": "execute_result"
    }
   ],
   "source": [
    "BHP_train.isnull().sum()"
   ]
  },
  {
   "cell_type": "code",
   "execution_count": 15,
   "id": "85821d13",
   "metadata": {
    "scrolled": true
   },
   "outputs": [
    {
     "data": {
      "text/plain": [
       "2.0    5113\n",
       "1.0    4897\n",
       "3.0    1672\n",
       "0.0    1029\n",
       "Name: balcony, dtype: int64"
      ]
     },
     "execution_count": 15,
     "metadata": {},
     "output_type": "execute_result"
    }
   ],
   "source": [
    "BHP_train[\"balcony\"].value_counts()"
   ]
  },
  {
   "cell_type": "code",
   "execution_count": 16,
   "id": "63f6f85e",
   "metadata": {},
   "outputs": [],
   "source": [
    "BHP_train[\"balcony\"].fillna(2.0,inplace=True)"
   ]
  },
  {
   "cell_type": "code",
   "execution_count": 17,
   "id": "9271a858",
   "metadata": {
    "scrolled": true
   },
   "outputs": [
    {
     "data": {
      "text/plain": [
       "area_type          0\n",
       "availability       0\n",
       "location        8648\n",
       "size              16\n",
       "total_sqft         0\n",
       "bath              73\n",
       "balcony            0\n",
       "price              0\n",
       "dtype: int64"
      ]
     },
     "execution_count": 17,
     "metadata": {},
     "output_type": "execute_result"
    }
   ],
   "source": [
    "BHP_train.isnull().sum()"
   ]
  },
  {
   "cell_type": "code",
   "execution_count": 18,
   "id": "1b55e143",
   "metadata": {
    "scrolled": true
   },
   "outputs": [
    {
     "data": {
      "text/plain": [
       "2.0     6908\n",
       "3.0     3286\n",
       "4.0     1226\n",
       "1.0      788\n",
       "5.0      524\n",
       "6.0      273\n",
       "7.0      102\n",
       "8.0       64\n",
       "9.0       43\n",
       "10.0      13\n",
       "12.0       7\n",
       "13.0       3\n",
       "11.0       3\n",
       "16.0       2\n",
       "27.0       1\n",
       "40.0       1\n",
       "15.0       1\n",
       "14.0       1\n",
       "18.0       1\n",
       "Name: bath, dtype: int64"
      ]
     },
     "execution_count": 18,
     "metadata": {},
     "output_type": "execute_result"
    }
   ],
   "source": [
    "BHP_train[\"bath\"].value_counts()"
   ]
  },
  {
   "cell_type": "code",
   "execution_count": 19,
   "id": "835e791e",
   "metadata": {},
   "outputs": [],
   "source": [
    "BHP_train[\"bath\"].fillna(2.0,inplace=True)"
   ]
  },
  {
   "cell_type": "code",
   "execution_count": 20,
   "id": "de4de1d0",
   "metadata": {
    "scrolled": false
   },
   "outputs": [
    {
     "data": {
      "text/plain": [
       "area_type          0\n",
       "availability       0\n",
       "location        8648\n",
       "size              16\n",
       "total_sqft         0\n",
       "bath               0\n",
       "balcony            0\n",
       "price              0\n",
       "dtype: int64"
      ]
     },
     "execution_count": 20,
     "metadata": {},
     "output_type": "execute_result"
    }
   ],
   "source": [
    "BHP_train.isnull().sum()"
   ]
  },
  {
   "cell_type": "code",
   "execution_count": 21,
   "id": "855a1e67",
   "metadata": {
    "scrolled": true
   },
   "outputs": [
    {
     "data": {
      "text/plain": [
       "2 BHK         5199\n",
       "3 BHK         4310\n",
       "4 Bedroom      826\n",
       "4 BHK          591\n",
       "3 Bedroom      547\n",
       "1 BHK          538\n",
       "2 Bedroom      329\n",
       "5 Bedroom      297\n",
       "6 Bedroom      191\n",
       "1 Bedroom      105\n",
       "8 Bedroom       84\n",
       "7 Bedroom       83\n",
       "5 BHK           59\n",
       "9 Bedroom       46\n",
       "6 BHK           30\n",
       "7 BHK           17\n",
       "1 RK            13\n",
       "10 Bedroom      12\n",
       "9 BHK            8\n",
       "8 BHK            5\n",
       "11 BHK           2\n",
       "11 Bedroom       2\n",
       "10 BHK           2\n",
       "14 BHK           1\n",
       "13 BHK           1\n",
       "12 Bedroom       1\n",
       "27 BHK           1\n",
       "43 Bedroom       1\n",
       "16 BHK           1\n",
       "19 BHK           1\n",
       "18 Bedroom       1\n",
       "Name: size, dtype: int64"
      ]
     },
     "execution_count": 21,
     "metadata": {},
     "output_type": "execute_result"
    }
   ],
   "source": [
    "BHP_train[\"size\"].value_counts()"
   ]
  },
  {
   "cell_type": "code",
   "execution_count": 22,
   "id": "be294898",
   "metadata": {},
   "outputs": [],
   "source": [
    "BHP_train[\"size\"].fillna(\"2 BHK\",inplace=True)"
   ]
  },
  {
   "cell_type": "code",
   "execution_count": 23,
   "id": "2430a6fd",
   "metadata": {
    "scrolled": true
   },
   "outputs": [
    {
     "data": {
      "text/plain": [
       "area_type          0\n",
       "availability       0\n",
       "location        8648\n",
       "size               0\n",
       "total_sqft         0\n",
       "bath               0\n",
       "balcony            0\n",
       "price              0\n",
       "dtype: int64"
      ]
     },
     "execution_count": 23,
     "metadata": {},
     "output_type": "execute_result"
    }
   ],
   "source": [
    "BHP_train.isnull().sum()"
   ]
  },
  {
   "cell_type": "markdown",
   "id": "ef87c0f5",
   "metadata": {},
   "source": [
    "# Size column\n",
    "<pre> replace all other words to BHK"
   ]
  },
  {
   "cell_type": "code",
   "execution_count": 24,
   "id": "e920cfd6",
   "metadata": {},
   "outputs": [],
   "source": [
    "BHP_train = BHP_train.dropna()"
   ]
  },
  {
   "cell_type": "code",
   "execution_count": 25,
   "id": "0b378224",
   "metadata": {
    "scrolled": true
   },
   "outputs": [],
   "source": [
    "for i in set(BHP_train[\"size\"]):\n",
    "    BHP_train[\"size\"].replace(i,i.split(\" \")[0],inplace=True)"
   ]
  },
  {
   "cell_type": "code",
   "execution_count": 26,
   "id": "7305b5c8",
   "metadata": {},
   "outputs": [
    {
     "data": {
      "text/plain": [
       "2    2083\n",
       "3    1783\n",
       "4     420\n",
       "1     248\n",
       "5      68\n",
       "6      34\n",
       "8      14\n",
       "7      14\n",
       "9       8\n",
       "Name: size, dtype: int64"
      ]
     },
     "execution_count": 26,
     "metadata": {},
     "output_type": "execute_result"
    }
   ],
   "source": [
    "BHP_train[\"size\"].value_counts()"
   ]
  },
  {
   "cell_type": "code",
   "execution_count": 27,
   "id": "3e822a4b",
   "metadata": {
    "scrolled": true
   },
   "outputs": [
    {
     "data": {
      "text/html": [
       "<div>\n",
       "<style scoped>\n",
       "    .dataframe tbody tr th:only-of-type {\n",
       "        vertical-align: middle;\n",
       "    }\n",
       "\n",
       "    .dataframe tbody tr th {\n",
       "        vertical-align: top;\n",
       "    }\n",
       "\n",
       "    .dataframe thead th {\n",
       "        text-align: right;\n",
       "    }\n",
       "</style>\n",
       "<table border=\"1\" class=\"dataframe\">\n",
       "  <thead>\n",
       "    <tr style=\"text-align: right;\">\n",
       "      <th></th>\n",
       "      <th>area_type</th>\n",
       "      <th>availability</th>\n",
       "      <th>location</th>\n",
       "      <th>size</th>\n",
       "      <th>total_sqft</th>\n",
       "      <th>bath</th>\n",
       "      <th>balcony</th>\n",
       "      <th>price</th>\n",
       "    </tr>\n",
       "  </thead>\n",
       "  <tbody>\n",
       "    <tr>\n",
       "      <th>0</th>\n",
       "      <td>Super built-up  Area</td>\n",
       "      <td>19-Dec</td>\n",
       "      <td>Electronic City Phase II</td>\n",
       "      <td>2</td>\n",
       "      <td>1056</td>\n",
       "      <td>2.0</td>\n",
       "      <td>1.0</td>\n",
       "      <td>39.07</td>\n",
       "    </tr>\n",
       "    <tr>\n",
       "      <th>2</th>\n",
       "      <td>Built-up  Area</td>\n",
       "      <td>Ready To Move</td>\n",
       "      <td>Uttarahalli</td>\n",
       "      <td>3</td>\n",
       "      <td>1440</td>\n",
       "      <td>2.0</td>\n",
       "      <td>3.0</td>\n",
       "      <td>62.00</td>\n",
       "    </tr>\n",
       "    <tr>\n",
       "      <th>5</th>\n",
       "      <td>Super built-up  Area</td>\n",
       "      <td>Ready To Move</td>\n",
       "      <td>Whitefield</td>\n",
       "      <td>2</td>\n",
       "      <td>1170</td>\n",
       "      <td>2.0</td>\n",
       "      <td>1.0</td>\n",
       "      <td>38.00</td>\n",
       "    </tr>\n",
       "    <tr>\n",
       "      <th>7</th>\n",
       "      <td>Super built-up  Area</td>\n",
       "      <td>Ready To Move</td>\n",
       "      <td>Rajaji Nagar</td>\n",
       "      <td>4</td>\n",
       "      <td>3300</td>\n",
       "      <td>4.0</td>\n",
       "      <td>2.0</td>\n",
       "      <td>600.00</td>\n",
       "    </tr>\n",
       "    <tr>\n",
       "      <th>8</th>\n",
       "      <td>Super built-up  Area</td>\n",
       "      <td>Ready To Move</td>\n",
       "      <td>Marathahalli</td>\n",
       "      <td>3</td>\n",
       "      <td>1310</td>\n",
       "      <td>3.0</td>\n",
       "      <td>1.0</td>\n",
       "      <td>63.25</td>\n",
       "    </tr>\n",
       "  </tbody>\n",
       "</table>\n",
       "</div>"
      ],
      "text/plain": [
       "              area_type   availability                  location size  \\\n",
       "0  Super built-up  Area         19-Dec  Electronic City Phase II    2   \n",
       "2        Built-up  Area  Ready To Move               Uttarahalli    3   \n",
       "5  Super built-up  Area  Ready To Move                Whitefield    2   \n",
       "7  Super built-up  Area  Ready To Move              Rajaji Nagar    4   \n",
       "8  Super built-up  Area  Ready To Move              Marathahalli    3   \n",
       "\n",
       "  total_sqft  bath  balcony   price  \n",
       "0       1056   2.0      1.0   39.07  \n",
       "2       1440   2.0      3.0   62.00  \n",
       "5       1170   2.0      1.0   38.00  \n",
       "7       3300   4.0      2.0  600.00  \n",
       "8       1310   3.0      1.0   63.25  "
      ]
     },
     "execution_count": 27,
     "metadata": {},
     "output_type": "execute_result"
    }
   ],
   "source": [
    "BHP_train.head(5)"
   ]
  },
  {
   "cell_type": "code",
   "execution_count": 28,
   "id": "ab1c8be7",
   "metadata": {
    "scrolled": true
   },
   "outputs": [],
   "source": [
    "BHP_train.drop([\"availability\"],axis=1,inplace=True)"
   ]
  },
  {
   "cell_type": "code",
   "execution_count": 29,
   "id": "152edfac",
   "metadata": {
    "scrolled": true
   },
   "outputs": [
    {
     "data": {
      "text/html": [
       "<div>\n",
       "<style scoped>\n",
       "    .dataframe tbody tr th:only-of-type {\n",
       "        vertical-align: middle;\n",
       "    }\n",
       "\n",
       "    .dataframe tbody tr th {\n",
       "        vertical-align: top;\n",
       "    }\n",
       "\n",
       "    .dataframe thead th {\n",
       "        text-align: right;\n",
       "    }\n",
       "</style>\n",
       "<table border=\"1\" class=\"dataframe\">\n",
       "  <thead>\n",
       "    <tr style=\"text-align: right;\">\n",
       "      <th></th>\n",
       "      <th>area_type</th>\n",
       "      <th>location</th>\n",
       "      <th>size</th>\n",
       "      <th>total_sqft</th>\n",
       "      <th>bath</th>\n",
       "      <th>balcony</th>\n",
       "      <th>price</th>\n",
       "    </tr>\n",
       "  </thead>\n",
       "  <tbody>\n",
       "    <tr>\n",
       "      <th>0</th>\n",
       "      <td>Super built-up  Area</td>\n",
       "      <td>Electronic City Phase II</td>\n",
       "      <td>2</td>\n",
       "      <td>1056</td>\n",
       "      <td>2.0</td>\n",
       "      <td>1.0</td>\n",
       "      <td>39.07</td>\n",
       "    </tr>\n",
       "    <tr>\n",
       "      <th>2</th>\n",
       "      <td>Built-up  Area</td>\n",
       "      <td>Uttarahalli</td>\n",
       "      <td>3</td>\n",
       "      <td>1440</td>\n",
       "      <td>2.0</td>\n",
       "      <td>3.0</td>\n",
       "      <td>62.00</td>\n",
       "    </tr>\n",
       "    <tr>\n",
       "      <th>5</th>\n",
       "      <td>Super built-up  Area</td>\n",
       "      <td>Whitefield</td>\n",
       "      <td>2</td>\n",
       "      <td>1170</td>\n",
       "      <td>2.0</td>\n",
       "      <td>1.0</td>\n",
       "      <td>38.00</td>\n",
       "    </tr>\n",
       "    <tr>\n",
       "      <th>7</th>\n",
       "      <td>Super built-up  Area</td>\n",
       "      <td>Rajaji Nagar</td>\n",
       "      <td>4</td>\n",
       "      <td>3300</td>\n",
       "      <td>4.0</td>\n",
       "      <td>2.0</td>\n",
       "      <td>600.00</td>\n",
       "    </tr>\n",
       "    <tr>\n",
       "      <th>8</th>\n",
       "      <td>Super built-up  Area</td>\n",
       "      <td>Marathahalli</td>\n",
       "      <td>3</td>\n",
       "      <td>1310</td>\n",
       "      <td>3.0</td>\n",
       "      <td>1.0</td>\n",
       "      <td>63.25</td>\n",
       "    </tr>\n",
       "  </tbody>\n",
       "</table>\n",
       "</div>"
      ],
      "text/plain": [
       "              area_type                  location size total_sqft  bath  \\\n",
       "0  Super built-up  Area  Electronic City Phase II    2       1056   2.0   \n",
       "2        Built-up  Area               Uttarahalli    3       1440   2.0   \n",
       "5  Super built-up  Area                Whitefield    2       1170   2.0   \n",
       "7  Super built-up  Area              Rajaji Nagar    4       3300   4.0   \n",
       "8  Super built-up  Area              Marathahalli    3       1310   3.0   \n",
       "\n",
       "   balcony   price  \n",
       "0      1.0   39.07  \n",
       "2      3.0   62.00  \n",
       "5      1.0   38.00  \n",
       "7      2.0  600.00  \n",
       "8      1.0   63.25  "
      ]
     },
     "execution_count": 29,
     "metadata": {},
     "output_type": "execute_result"
    }
   ],
   "source": [
    "BHP_train.head(5)"
   ]
  },
  {
   "cell_type": "markdown",
   "id": "86bfa6c2",
   "metadata": {},
   "source": [
    "# Label Encoding"
   ]
  },
  {
   "cell_type": "code",
   "execution_count": 30,
   "id": "c4168e27",
   "metadata": {},
   "outputs": [],
   "source": [
    "from sklearn.preprocessing import LabelEncoder"
   ]
  },
  {
   "cell_type": "code",
   "execution_count": 31,
   "id": "64059bfb",
   "metadata": {},
   "outputs": [],
   "source": [
    "le = LabelEncoder()\n",
    "BHP_train[\"area_type\"] = le.fit_transform(BHP_train[\"area_type\"])"
   ]
  },
  {
   "cell_type": "code",
   "execution_count": 32,
   "id": "6bb62c8a",
   "metadata": {
    "scrolled": true
   },
   "outputs": [],
   "source": [
    "le1 = LabelEncoder()\n",
    "BHP_train[\"location\"] = le1.fit_transform(BHP_train[\"location\"])"
   ]
  },
  {
   "cell_type": "code",
   "execution_count": 33,
   "id": "606a9b90",
   "metadata": {
    "scrolled": false
   },
   "outputs": [
    {
     "data": {
      "text/html": [
       "<div>\n",
       "<style scoped>\n",
       "    .dataframe tbody tr th:only-of-type {\n",
       "        vertical-align: middle;\n",
       "    }\n",
       "\n",
       "    .dataframe tbody tr th {\n",
       "        vertical-align: top;\n",
       "    }\n",
       "\n",
       "    .dataframe thead th {\n",
       "        text-align: right;\n",
       "    }\n",
       "</style>\n",
       "<table border=\"1\" class=\"dataframe\">\n",
       "  <thead>\n",
       "    <tr style=\"text-align: right;\">\n",
       "      <th></th>\n",
       "      <th>area_type</th>\n",
       "      <th>location</th>\n",
       "      <th>size</th>\n",
       "      <th>total_sqft</th>\n",
       "      <th>bath</th>\n",
       "      <th>balcony</th>\n",
       "      <th>price</th>\n",
       "    </tr>\n",
       "  </thead>\n",
       "  <tbody>\n",
       "    <tr>\n",
       "      <th>0</th>\n",
       "      <td>3</td>\n",
       "      <td>7</td>\n",
       "      <td>2</td>\n",
       "      <td>1056</td>\n",
       "      <td>2.0</td>\n",
       "      <td>1.0</td>\n",
       "      <td>39.07</td>\n",
       "    </tr>\n",
       "    <tr>\n",
       "      <th>2</th>\n",
       "      <td>0</td>\n",
       "      <td>26</td>\n",
       "      <td>3</td>\n",
       "      <td>1440</td>\n",
       "      <td>2.0</td>\n",
       "      <td>3.0</td>\n",
       "      <td>62.00</td>\n",
       "    </tr>\n",
       "    <tr>\n",
       "      <th>5</th>\n",
       "      <td>3</td>\n",
       "      <td>27</td>\n",
       "      <td>2</td>\n",
       "      <td>1170</td>\n",
       "      <td>2.0</td>\n",
       "      <td>1.0</td>\n",
       "      <td>38.00</td>\n",
       "    </tr>\n",
       "    <tr>\n",
       "      <th>7</th>\n",
       "      <td>3</td>\n",
       "      <td>21</td>\n",
       "      <td>4</td>\n",
       "      <td>3300</td>\n",
       "      <td>4.0</td>\n",
       "      <td>2.0</td>\n",
       "      <td>600.00</td>\n",
       "    </tr>\n",
       "    <tr>\n",
       "      <th>8</th>\n",
       "      <td>3</td>\n",
       "      <td>19</td>\n",
       "      <td>3</td>\n",
       "      <td>1310</td>\n",
       "      <td>3.0</td>\n",
       "      <td>1.0</td>\n",
       "      <td>63.25</td>\n",
       "    </tr>\n",
       "  </tbody>\n",
       "</table>\n",
       "</div>"
      ],
      "text/plain": [
       "   area_type  location size total_sqft  bath  balcony   price\n",
       "0          3         7    2       1056   2.0      1.0   39.07\n",
       "2          0        26    3       1440   2.0      3.0   62.00\n",
       "5          3        27    2       1170   2.0      1.0   38.00\n",
       "7          3        21    4       3300   4.0      2.0  600.00\n",
       "8          3        19    3       1310   3.0      1.0   63.25"
      ]
     },
     "execution_count": 33,
     "metadata": {},
     "output_type": "execute_result"
    }
   ],
   "source": [
    "BHP_train.head(5)"
   ]
  },
  {
   "cell_type": "code",
   "execution_count": 34,
   "id": "fadfe440",
   "metadata": {},
   "outputs": [
    {
     "data": {
      "text/plain": [
       "4"
      ]
     },
     "execution_count": 34,
     "metadata": {},
     "output_type": "execute_result"
    }
   ],
   "source": [
    "BHP_train[\"area_type\"].nunique()"
   ]
  },
  {
   "cell_type": "code",
   "execution_count": 35,
   "id": "73d71385",
   "metadata": {
    "scrolled": false
   },
   "outputs": [
    {
     "data": {
      "text/plain": [
       "array(['Built-up  Area', 'Carpet  Area', 'Plot  Area',\n",
       "       'Super built-up  Area'], dtype=object)"
      ]
     },
     "execution_count": 35,
     "metadata": {},
     "output_type": "execute_result"
    }
   ],
   "source": [
    "le.inverse_transform(range(BHP_train[\"area_type\"].nunique()))"
   ]
  },
  {
   "cell_type": "code",
   "execution_count": 36,
   "id": "b88fee13",
   "metadata": {
    "scrolled": true
   },
   "outputs": [
    {
     "data": {
      "text/plain": [
       "array(['7th Phase JP Nagar', 'Banashankari', 'Bannerghatta Road',\n",
       "       'Begur Road', 'Bellandur', 'Chandapura', 'Electronic City',\n",
       "       'Electronic City Phase II', 'Electronics City Phase 1',\n",
       "       'Haralur Road', 'Harlur', 'Hebbal', 'Hennur Road', 'Hoodi',\n",
       "       'Hormavu', 'KR Puram', 'Kanakpura Road', 'Kasavanhalli', 'Kengeri',\n",
       "       'Marathahalli', 'Raja Rajeshwari Nagar', 'Rajaji Nagar',\n",
       "       'Ramamurthy Nagar', 'Sarjapur', 'Sarjapur  Road', 'Thanisandra',\n",
       "       'Uttarahalli', 'Whitefield', 'Yelahanka', 'Yeshwanthpur'],\n",
       "      dtype=object)"
      ]
     },
     "execution_count": 36,
     "metadata": {},
     "output_type": "execute_result"
    }
   ],
   "source": [
    "le1.inverse_transform(range(BHP_train[\"location\"].nunique()))"
   ]
  },
  {
   "cell_type": "code",
   "execution_count": 37,
   "id": "d5868ce3",
   "metadata": {},
   "outputs": [],
   "source": [
    "loc=['7th Phase JP Nagar', 'Banashankari', 'Bannerghatta Road',\n",
    "       'Begur Road', 'Bellandur', 'Chandapura', 'Electronic City',\n",
    "       'Electronic City Phase II', 'Electronics City Phase 1',\n",
    "       'Haralur Road', 'Harlur', 'Hebbal', 'Hennur Road', 'Hoodi',\n",
    "       'Hormavu', 'KR Puram', 'Kanakpura Road', 'Kasavanhalli', 'Kengeri',\n",
    "       'Marathahalli', 'Raja Rajeshwari Nagar', 'Rajaji Nagar',\n",
    "       'Ramamurthy Nagar', 'Sarjapur', 'Sarjapur  Road', 'Thanisandra',\n",
    "       'Uttarahalli', 'Whitefield', 'Yelahanka', 'Yeshwanthpur']"
   ]
  },
  {
   "cell_type": "code",
   "execution_count": 38,
   "id": "a1e5f525",
   "metadata": {},
   "outputs": [
    {
     "data": {
      "text/plain": [
       "20"
      ]
     },
     "execution_count": 38,
     "metadata": {},
     "output_type": "execute_result"
    }
   ],
   "source": [
    "loc.index(\"Raja Rajeshwari Nagar\")"
   ]
  },
  {
   "cell_type": "code",
   "execution_count": 39,
   "id": "4ab3bbfa",
   "metadata": {
    "scrolled": true
   },
   "outputs": [
    {
     "data": {
      "text/plain": [
       "array(['Raja Rajeshwari Nagar'], dtype=object)"
      ]
     },
     "execution_count": 39,
     "metadata": {},
     "output_type": "execute_result"
    }
   ],
   "source": [
    "le1.inverse_transform([20])"
   ]
  },
  {
   "cell_type": "code",
   "execution_count": 40,
   "id": "eb0d417f",
   "metadata": {
    "scrolled": true
   },
   "outputs": [
    {
     "data": {
      "text/plain": [
       "Index(['area_type', 'location', 'size', 'total_sqft', 'bath', 'balcony',\n",
       "       'price'],\n",
       "      dtype='object')"
      ]
     },
     "execution_count": 40,
     "metadata": {},
     "output_type": "execute_result"
    }
   ],
   "source": [
    "BHP_train.columns"
   ]
  },
  {
   "cell_type": "markdown",
   "id": "8b802a78",
   "metadata": {},
   "source": [
    "# Total_sqft column\n",
    "<ul><li> removing null data\n",
    "    <li> Optimizing waste data"
   ]
  },
  {
   "cell_type": "code",
   "execution_count": 41,
   "id": "e1bdc35d",
   "metadata": {},
   "outputs": [
    {
     "data": {
      "text/plain": [
       "0        1056\n",
       "2        1440\n",
       "5        1170\n",
       "7        3300\n",
       "8        1310\n",
       "         ... \n",
       "13311    1500\n",
       "13312    1262\n",
       "13313    1345\n",
       "13315    3453\n",
       "13317    1141\n",
       "Name: total_sqft, Length: 4672, dtype: object"
      ]
     },
     "execution_count": 41,
     "metadata": {},
     "output_type": "execute_result"
    }
   ],
   "source": [
    "BHP_train[\"total_sqft\"]"
   ]
  },
  {
   "cell_type": "code",
   "execution_count": 44,
   "id": "4b1e5b28",
   "metadata": {
    "scrolled": true
   },
   "outputs": [],
   "source": [
    "for i in BHP_train[\"total_sqft\"]:\n",
    "    if str(i).isnumeric():\n",
    "        pass        \n",
    "    else:\n",
    "        print(i)\n",
    "clear_output()"
   ]
  },
  {
   "cell_type": "code",
   "execution_count": 45,
   "id": "e1aad299",
   "metadata": {},
   "outputs": [],
   "source": [
    "for i in BHP_train[\"total_sqft\"]:\n",
    "    if \"-\" in str(i):\n",
    "        s = i.split(\" - \")\n",
    "        m = (float(s[0])+float(s[1]))//2\n",
    "        BHP_train[\"total_sqft\"].replace(i,m,inplace=True)"
   ]
  },
  {
   "cell_type": "code",
   "execution_count": 46,
   "id": "85b9e9f2",
   "metadata": {},
   "outputs": [],
   "source": [
    "for i in BHP_train[\"total_sqft\"]:\n",
    "    if str(i).isalnum() and str(i).isnumeric()==False:\n",
    "        BHP_train[\"total_sqft\"].replace(i,np.NaN,inplace=True)"
   ]
  },
  {
   "cell_type": "code",
   "execution_count": 47,
   "id": "6069b970",
   "metadata": {},
   "outputs": [],
   "source": [
    "BHP_train = BHP_train.dropna()"
   ]
  },
  {
   "cell_type": "code",
   "execution_count": 48,
   "id": "7fc92683",
   "metadata": {},
   "outputs": [],
   "source": [
    "for i in BHP_train[\"total_sqft\"]:\n",
    "    if str(i).isalnum() and str(i).isnumeric()==False:\n",
    "        print(i)"
   ]
  },
  {
   "cell_type": "code",
   "execution_count": 49,
   "id": "65381a42",
   "metadata": {},
   "outputs": [],
   "source": [
    "for i in BHP_train[\"total_sqft\"]:\n",
    "    if str(i)[-1].isalpha():\n",
    "        BHP_train[\"total_sqft\"].replace(i,np.NaN,inplace=True)       "
   ]
  },
  {
   "cell_type": "code",
   "execution_count": 50,
   "id": "6e235c97",
   "metadata": {},
   "outputs": [],
   "source": [
    "BHP_train = BHP_train.dropna()"
   ]
  },
  {
   "cell_type": "code",
   "execution_count": 51,
   "id": "79537dea",
   "metadata": {},
   "outputs": [],
   "source": [
    "BHP_train[\"total_sqft\"] = BHP_train[\"total_sqft\"].astype(\"float64\")"
   ]
  },
  {
   "cell_type": "code",
   "execution_count": 52,
   "id": "297d1de4",
   "metadata": {},
   "outputs": [],
   "source": [
    "k = list(set(BHP_train[\"total_sqft\"]))"
   ]
  },
  {
   "cell_type": "code",
   "execution_count": 53,
   "id": "b4b11d4c",
   "metadata": {},
   "outputs": [],
   "source": [
    "k.sort()"
   ]
  },
  {
   "cell_type": "code",
   "execution_count": 54,
   "id": "6def06e4",
   "metadata": {},
   "outputs": [
    {
     "data": {
      "text/plain": [
       "0        1056.0\n",
       "2        1440.0\n",
       "5        1170.0\n",
       "7        3300.0\n",
       "8        1310.0\n",
       "          ...  \n",
       "13311    1500.0\n",
       "13312    1262.0\n",
       "13313    1345.0\n",
       "13315    3453.0\n",
       "13317    1141.0\n",
       "Name: total_sqft, Length: 4662, dtype: float64"
      ]
     },
     "execution_count": 54,
     "metadata": {},
     "output_type": "execute_result"
    }
   ],
   "source": [
    "BHP_train[\"total_sqft\"]"
   ]
  },
  {
   "cell_type": "markdown",
   "id": "5c5845ed",
   "metadata": {},
   "source": [
    "# Defining I/P and O/P"
   ]
  },
  {
   "cell_type": "code",
   "execution_count": 55,
   "id": "e5ec5042",
   "metadata": {},
   "outputs": [],
   "source": [
    "ip = BHP_train.drop([\"price\"],axis=1)\n",
    "op = BHP_train.price"
   ]
  },
  {
   "cell_type": "code",
   "execution_count": 56,
   "id": "f953f213",
   "metadata": {
    "scrolled": true
   },
   "outputs": [
    {
     "data": {
      "text/plain": [
       "((4662, 6), (4662,))"
      ]
     },
     "execution_count": 56,
     "metadata": {},
     "output_type": "execute_result"
    }
   ],
   "source": [
    "ip.shape , op.shape"
   ]
  },
  {
   "cell_type": "code",
   "execution_count": null,
   "id": "f593f629",
   "metadata": {},
   "outputs": [],
   "source": [
    "acc_list = []\n",
    "for i in range(10001):\n",
    "    x_train,x_test,y_train,y_test = train_test_split(ip,op,test_size=0.1,random_state=i)\n",
    "    model = LinearRegression()\n",
    "    model.fit(x_train,y_train)\n",
    "    acc_list.append(model.score(x_test,y_test))\n",
    "\n",
    "print(acc_list.index(max(acc_list)))   "
   ]
  },
  {
   "cell_type": "markdown",
   "id": "82408288",
   "metadata": {},
   "source": [
    "# Splitting the Data\n",
    "\n",
    "<ul> <li>Splitting the data for training and testing\n",
    "    \n"
   ]
  },
  {
   "cell_type": "code",
   "execution_count": null,
   "id": "588e1601",
   "metadata": {},
   "outputs": [],
   "source": [
    "from sklearn.model_selection import train_test_split\n",
    "x_train,x_test,y_train,y_test = train_test_split(ip,op,test_size=0.1,random_state=5077)"
   ]
  },
  {
   "cell_type": "code",
   "execution_count": null,
   "id": "20587860",
   "metadata": {},
   "outputs": [],
   "source": [
    "x_train.shape,x_test.shape,y_train.shape,y_test.shape"
   ]
  },
  {
   "cell_type": "markdown",
   "id": "76e8ca42",
   "metadata": {},
   "source": [
    "# Model selection:\n",
    "<ul><li> We will be using Linear Regression Model"
   ]
  },
  {
   "cell_type": "code",
   "execution_count": null,
   "id": "047e74f4",
   "metadata": {},
   "outputs": [],
   "source": [
    "from sklearn.linear_model import LinearRegression\n",
    "model = LinearRegression()"
   ]
  },
  {
   "cell_type": "code",
   "execution_count": null,
   "id": "1b57be36",
   "metadata": {},
   "outputs": [],
   "source": [
    "model.fit(x_train,y_train)"
   ]
  },
  {
   "cell_type": "markdown",
   "id": "1d2add57",
   "metadata": {},
   "source": [
    "# Accuracy Checking"
   ]
  },
  {
   "cell_type": "code",
   "execution_count": null,
   "id": "cb85d2a1",
   "metadata": {},
   "outputs": [],
   "source": [
    "model.score(x_test,y_test)"
   ]
  },
  {
   "cell_type": "markdown",
   "id": "ddef73e1",
   "metadata": {},
   "source": [
    "# Model Saving\n",
    "\n",
    "<ul><li> Using pickle we will create a .pickle file to store the Model for the future Use."
   ]
  },
  {
   "cell_type": "code",
   "execution_count": null,
   "id": "a3b02926",
   "metadata": {},
   "outputs": [],
   "source": [
    "import pickle"
   ]
  },
  {
   "cell_type": "code",
   "execution_count": null,
   "id": "4baad44a",
   "metadata": {},
   "outputs": [],
   "source": [
    "pickle.dump(model, open(r\"/Users/dhananjay/Desktop/Dhananjay c&p/Frontend/price_prediction/model1.pickle\", 'wb'))"
   ]
  },
  {
   "cell_type": "code",
   "execution_count": null,
   "id": "e3770ece",
   "metadata": {},
   "outputs": [],
   "source": []
  }
 ],
 "metadata": {
  "kernelspec": {
   "display_name": "Python 3 (ipykernel)",
   "language": "python",
   "name": "python3"
  },
  "language_info": {
   "codemirror_mode": {
    "name": "ipython",
    "version": 3
   },
   "file_extension": ".py",
   "mimetype": "text/x-python",
   "name": "python",
   "nbconvert_exporter": "python",
   "pygments_lexer": "ipython3",
   "version": "3.9.13"
  }
 },
 "nbformat": 4,
 "nbformat_minor": 5
}
